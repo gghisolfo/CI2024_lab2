{
 "cells": [
  {
   "cell_type": "code",
   "execution_count": 6,
   "metadata": {},
   "outputs": [],
   "source": [
    "import logging\n",
    "from itertools import combinations\n",
    "import pandas as pd\n",
    "import numpy as np\n",
    "from geopy.distance import geodesic\n",
    "import random\n",
    "import math\n",
    "import random\n",
    "\n",
    "\n",
    "logging.basicConfig(level=logging.DEBUG)\n",
    "\n",
    "# List of city files to analyze\n",
    "city_files = ['cities/vanuatu.csv', 'cities/italy.csv', 'cities/us.csv', \n",
    "              'cities/russia.csv', 'cities/china.csv' ] \n",
    "\n",
    "#Load city data from a CSV file and return it as a DataFrame.\n",
    "def load_cities(file_path):\n",
    "    return pd.read_csv(file_path, header=None, names=['name', 'lat', 'lon'])\n",
    "\n",
    "#Create a distance matrix for the given city DataFrame.\n",
    "def create_distance_matrix(cities):\n",
    "    n = len(cities)\n",
    "    dist_matrix = np.zeros((n, n))\n",
    "    for c1, c2 in combinations(cities.itertuples(), 2):\n",
    "        dist_matrix[c1.Index, c2.Index] = dist_matrix[c2.Index, c1.Index] = geodesic(\n",
    "            (c1.lat, c1.lon), (c2.lat, c2.lon)\n",
    "        ).km\n",
    "    return dist_matrix"
   ]
  },
  {
   "cell_type": "code",
   "execution_count": 7,
   "metadata": {},
   "outputs": [],
   "source": [
    "\n",
    "#Solve TSP using a greedy nearest-neighbor approach and return the path and total cost.\n",
    "def tsp_greedy(dist_matrix, cities):\n",
    "    n = dist_matrix.shape[0]\n",
    "    path = [0]  # Start from the first city (index 0)\n",
    "    visited = set(path)\n",
    "    total_cost = 0.0\n",
    "    current_city = 0\n",
    "\n",
    "    for _ in range(n - 1):\n",
    "        next_city = None\n",
    "        min_distance = float('inf')\n",
    "        for j in range(n):\n",
    "            if j not in visited and dist_matrix[current_city, j] < min_distance:\n",
    "                min_distance = dist_matrix[current_city, j]\n",
    "                next_city = j\n",
    "\n",
    "        path.append(next_city)\n",
    "        visited.add(next_city)\n",
    "        total_cost += min_distance\n",
    "\n",
    "        # Log each step\n",
    "        '''logging.debug(\n",
    "            f\"Step: {cities.at[current_city, 'name']} -> {cities.at[next_city, 'name']} ({dist_matrix[current_city, next_city]:.2f} km)\"\n",
    "        )'''\n",
    "\n",
    "        current_city = next_city\n",
    "\n",
    "    # Return to the starting city and update the cost\n",
    "    total_cost += dist_matrix[current_city, path[0]]\n",
    "    path.append(path[0])  # Close the loop by returning to the starting city\n",
    "\n",
    "    # Log final step\n",
    "    '''logging.debug(\n",
    "        f\"Step: {cities.at[current_city, 'name']} -> {cities.at[path[0], 'name']} ({dist_matrix[current_city, path[0]]:.2f} km)\"\n",
    "    )'''\n",
    "\n",
    "    return path, total_cost"
   ]
  },
  {
   "cell_type": "code",
   "execution_count": 8,
   "metadata": {},
   "outputs": [
    {
     "name": "stdout",
     "output_type": "stream",
     "text": [
      "\n",
      "=== Results for china.csv ===\n",
      "Total Path Cost: 63962.92 km\n",
      "\n",
      "\n",
      "=== Results for italy.csv ===\n",
      "Total Path Cost: 4436.03 km\n",
      "\n",
      "\n",
      "=== Results for russia.csv ===\n",
      "Total Path Cost: 42334.16 km\n",
      "\n",
      "\n",
      "=== Results for us.csv ===\n",
      "Total Path Cost: 48050.03 km\n",
      "\n",
      "\n",
      "=== Results for vanuatu.csv ===\n",
      "Total Path Cost: 1475.53 km\n",
      "\n"
     ]
    }
   ],
   "source": [
    "\n",
    "# Main execution\n",
    "for file_path in sorted(city_files):\n",
    "    # Load city data and create distance matrix\n",
    "    cities = load_cities(file_path)\n",
    "    dist_matrix = create_distance_matrix(cities)\n",
    "\n",
    "    # Solve TSP and get the path and total cost\n",
    "    path, total_cost = tsp_greedy(dist_matrix, cities)\n",
    "\n",
    "    # Print sorted results for each file\n",
    "    print(f\"\\n=== Results for {file_path.split('/')[-1]} ===\")\n",
    "    '''for i in range(len(path) - 1):\n",
    "        print(f\"{cities.at[path[i], 'name']} -> {cities.at[path[i+1], 'name']} ({dist_matrix[path[i], path[i+1]]:.2f} km)\")'''\n",
    "    print(f\"Total Path Cost: {total_cost:.2f} km\\n\")\n"
   ]
  },
  {
   "cell_type": "code",
   "execution_count": 9,
   "metadata": {},
   "outputs": [],
   "source": [
    "#Simulated Annealing algorithm to solve the TSP\n",
    "def simulated_annealing(dist_matrix, cities, iterations, initial_temp, final_temp, cooling_factor):\n",
    "    \n",
    "    n = len(dist_matrix)\n",
    "    path = list(range(n))\n",
    "    random.shuffle(path)\n",
    "\n",
    "    def calculate_total_distance(path):\n",
    "        return sum(dist_matrix[path[i], path[i + 1]] for i in range(n - 1)) + dist_matrix[path[-1], path[0]]\n",
    "\n",
    "    current_distance = calculate_total_distance(path)\n",
    "    best_distance = current_distance\n",
    "    best_path = path[:]\n",
    "    \n",
    "    temperature = initial_temp\n",
    "    \n",
    "    while temperature > final_temp:\n",
    "        for _ in range(iterations):\n",
    "            new_path = path[:]\n",
    "            i, j = sorted(random.sample(range(n), 2))\n",
    "            new_path[i:j+1] = reversed(new_path[i:j+1])\n",
    "            new_distance = calculate_total_distance(new_path)\n",
    "            distance_delta = new_distance - current_distance\n",
    "\n",
    "            # Condition to accept the new path\n",
    "            if distance_delta < 0 or random.random() < math.exp(-distance_delta / temperature):\n",
    "                path, current_distance = new_path, new_distance\n",
    "                if current_distance < best_distance:\n",
    "                    best_path, best_distance = path[:], current_distance\n",
    "                    #logging.debug(f\"New optimized path to {best_distance:.2f} km\")\n",
    "\n",
    "        # Cooling step\n",
    "        temperature *= cooling_factor\n",
    "\n",
    "    # Final log for the best path found\n",
    "    # logging.debug(\"Best path found:\")\n",
    "    # for k in range(n - 1):\n",
    "    #     logging.debug(\n",
    "    #         f\"{cities.at[best_path[k], 'name']} -> {cities.at[best_path[k + 1], 'name']} \"\n",
    "    #         f\"({dist_matrix[best_path[k], best_path[k + 1]]:.2f} km)\"\n",
    "    #     )\n",
    "    # logging.debug(\n",
    "    #     f\"{cities.at[best_path[-1], 'name']} -> {cities.at[best_path[0], 'name']} \"\n",
    "    #     f\"({dist_matrix[best_path[-1], best_path[0]]:.2f} km)\"\n",
    "    # )\n",
    "    \n",
    "    return best_path, best_distance\n"
   ]
  },
  {
   "cell_type": "code",
   "execution_count": 10,
   "metadata": {},
   "outputs": [
    {
     "name": "stderr",
     "output_type": "stream",
     "text": [
      "INFO:root:Running Simulated Annealing algorithm...\n",
      "INFO:root:Running Simulated Annealing algorithm...\n"
     ]
    },
    {
     "name": "stdout",
     "output_type": "stream",
     "text": [
      "Best path with Simulated Annealing: Distance: 1345.54 km\n",
      "Best path with Simulated Annealing: Distance: 4172.76 km\n"
     ]
    },
    {
     "name": "stderr",
     "output_type": "stream",
     "text": [
      "INFO:root:Running Simulated Annealing algorithm...\n"
     ]
    },
    {
     "name": "stdout",
     "output_type": "stream",
     "text": [
      "Best path with Simulated Annealing: Distance: 40562.43 km\n"
     ]
    },
    {
     "name": "stderr",
     "output_type": "stream",
     "text": [
      "INFO:root:Running Simulated Annealing algorithm...\n"
     ]
    },
    {
     "name": "stdout",
     "output_type": "stream",
     "text": [
      "Best path with Simulated Annealing: Distance: 34763.86 km\n"
     ]
    },
    {
     "name": "stderr",
     "output_type": "stream",
     "text": [
      "INFO:root:Running Simulated Annealing algorithm...\n"
     ]
    },
    {
     "name": "stdout",
     "output_type": "stream",
     "text": [
      "Best path with Simulated Annealing: Distance: 62581.60 km\n"
     ]
    }
   ],
   "source": [
    "for file in city_files:\n",
    "    cities = load_cities(file)\n",
    "    dist_matrix = create_distance_matrix(cities)\n",
    "\n",
    "    # Parameters\n",
    "    iterations = 500  # Originally 10000\n",
    "    initial_temp = 100\n",
    "    final_temp = 0.01\n",
    "    cooling_factor = 0.99\n",
    "\n",
    "    # Simulated Annealing\n",
    "    logging.info(\"Running Simulated Annealing algorithm...\")\n",
    "    sa_path, sa_distance = simulated_annealing(dist_matrix, cities, iterations, initial_temp, final_temp, cooling_factor)\n",
    "    print(f\"Best path with Simulated Annealing: Distance: {sa_distance:.2f} km\") \n"
   ]
  }
 ],
 "metadata": {
  "kernelspec": {
   "display_name": "Python 3",
   "language": "python",
   "name": "python3"
  },
  "language_info": {
   "codemirror_mode": {
    "name": "ipython",
    "version": 3
   },
   "file_extension": ".py",
   "mimetype": "text/x-python",
   "name": "python",
   "nbconvert_exporter": "python",
   "pygments_lexer": "ipython3",
   "version": "3.10.11"
  }
 },
 "nbformat": 4,
 "nbformat_minor": 2
}

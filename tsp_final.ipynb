{
 "cells": [
  {
   "cell_type": "code",
   "execution_count": 101,
   "metadata": {},
   "outputs": [],
   "source": [
    "import logging\n",
    "from itertools import combinations\n",
    "import pandas as pd\n",
    "import numpy as np\n",
    "from geopy.distance import geodesic\n",
    "import random\n",
    "\n",
    "logging.basicConfig(level=logging.DEBUG)\n",
    "\n",
    "# List of city files to analyze\n",
    "city_files = ['cities/vanuatu.csv', 'cities/italy.csv', 'cities/us.csv', 'cities/russia.csv', 'cities/china.csv' ]  # Add paths to other city files if needed\n",
    "# city_files = [ 'cities/vanuatu.csv']  # Add paths to other city files if needed\n",
    "\n",
    "\n",
    "def load_cities(file_path):\n",
    "    \"\"\"Load city data from a CSV file and return it as a DataFrame.\"\"\"\n",
    "    return pd.read_csv(file_path, header=None, names=['name', 'lat', 'lon'])\n",
    "\n",
    "def create_distance_matrix(cities):\n",
    "    \"\"\"Create a distance matrix for the given city DataFrame.\"\"\"\n",
    "    n = len(cities)\n",
    "    dist_matrix = np.zeros((n, n))\n",
    "    for c1, c2 in combinations(cities.itertuples(), 2):\n",
    "        dist_matrix[c1.Index, c2.Index] = dist_matrix[c2.Index, c1.Index] = geodesic(\n",
    "            (c1.lat, c1.lon), (c2.lat, c2.lon)\n",
    "        ).km\n",
    "    return dist_matrix\n"
   ]
  },
  {
   "cell_type": "code",
   "execution_count": 102,
   "metadata": {},
   "outputs": [],
   "source": [
    "def tsp_greedy(dist_matrix, cities):\n",
    "    \"\"\"Solve TSP using a greedy nearest-neighbor approach and return the path and total cost.\"\"\"\n",
    "    n = dist_matrix.shape[0]\n",
    "    path = [0]  # Start from the first city (index 0)\n",
    "    visited = set(path)\n",
    "    total_cost = 0.0\n",
    "    current_city = 0\n",
    "\n",
    "    for _ in range(n - 1):\n",
    "        next_city = None\n",
    "        min_distance = float('inf')\n",
    "        for j in range(n):\n",
    "            if j not in visited and dist_matrix[current_city, j] < min_distance:\n",
    "                min_distance = dist_matrix[current_city, j]\n",
    "                next_city = j\n",
    "\n",
    "        path.append(next_city)\n",
    "        visited.add(next_city)\n",
    "        total_cost += min_distance\n",
    "\n",
    "        # Log each step\n",
    "        '''logging.debug(\n",
    "            f\"Step: {cities.at[current_city, 'name']} -> {cities.at[next_city, 'name']} ({dist_matrix[current_city, next_city]:.2f} km)\"\n",
    "        )'''\n",
    "\n",
    "        current_city = next_city\n",
    "\n",
    "    # Return to the starting city and update the cost\n",
    "    total_cost += dist_matrix[current_city, path[0]]\n",
    "    path.append(path[0])  # Close the loop by returning to the starting city\n",
    "\n",
    "    # Log final step\n",
    "    '''logging.debug(\n",
    "        f\"Step: {cities.at[current_city, 'name']} -> {cities.at[path[0], 'name']} ({dist_matrix[current_city, path[0]]:.2f} km)\"\n",
    "    )'''\n",
    "\n",
    "    return path, total_cost"
   ]
  },
  {
   "cell_type": "code",
   "execution_count": 103,
   "metadata": {},
   "outputs": [
    {
     "name": "stdout",
     "output_type": "stream",
     "text": [
      "\n",
      "=== Results for china.csv ===\n",
      "Total Path Cost: 63962.92 km\n",
      "\n",
      "\n",
      "=== Results for italy.csv ===\n",
      "Total Path Cost: 4436.03 km\n",
      "\n",
      "\n",
      "=== Results for russia.csv ===\n",
      "Total Path Cost: 42334.16 km\n",
      "\n",
      "\n",
      "=== Results for us.csv ===\n",
      "Total Path Cost: 48050.03 km\n",
      "\n",
      "\n",
      "=== Results for vanuatu.csv ===\n",
      "Total Path Cost: 1475.53 km\n",
      "\n"
     ]
    }
   ],
   "source": [
    "\n",
    "# Main execution\n",
    "for file_path in sorted(city_files):\n",
    "    # Load city data and create distance matrix\n",
    "    cities = load_cities(file_path)\n",
    "    dist_matrix = create_distance_matrix(cities)\n",
    "\n",
    "    # Solve TSP and get the path and total cost\n",
    "    path, total_cost = tsp_greedy(dist_matrix, cities)\n",
    "\n",
    "    # Print sorted results for each file\n",
    "    print(f\"\\n=== Results for {file_path.split('/')[-1]} ===\")\n",
    "    '''for i in range(len(path) - 1):\n",
    "        print(f\"{cities.at[path[i], 'name']} -> {cities.at[path[i+1], 'name']} ({dist_matrix[path[i], path[i+1]]:.2f} km)\")'''\n",
    "    print(f\"Total Path Cost: {total_cost:.2f} km\\n\")\n"
   ]
  },
  {
   "cell_type": "code",
   "execution_count": 104,
   "metadata": {},
   "outputs": [],
   "source": [
    "def hill_climber(dist_matrix, cities, iterazioni):\n",
    "    \"\"\"Algoritmo Hill Climber per risolvere il problema del TSP.\"\"\"\n",
    "    n = len(dist_matrix)\n",
    "    # Inizializza un percorso casuale\n",
    "    percorso = list(range(n))\n",
    "    random.shuffle(percorso)\n",
    "    \n",
    "    def calcola_distanza_totale(percorso):\n",
    "        return sum(dist_matrix[percorso[i], percorso[i + 1]] for i in range(n - 1)) + dist_matrix[percorso[-1], percorso[0]]\n",
    "\n",
    "    # Calcola la distanza del percorso iniziale\n",
    "    migliore_distanza = calcola_distanza_totale(percorso)\n",
    "    logging.debug(\"Inizio percorso casuale: \" + \" -> \".join(cities.at[i, 'name'] for i in percorso))\n",
    "    \n",
    "    for _ in range(iterazioni):\n",
    "        # Crea un nuovo percorso invertendo una sottosequenza (2-opt)\n",
    "        nuovo_percorso = percorso[:]\n",
    "        i, j = random.sample(range(1, n), 2)\n",
    "        if i > j:\n",
    "            i, j = j, i\n",
    "        nuovo_percorso[i:j+1] = reversed(nuovo_percorso[i:j+1])\n",
    "        \n",
    "        # Calcola la distanza del nuovo percorso\n",
    "        nuova_distanza = calcola_distanza_totale(nuovo_percorso)\n",
    "        \n",
    "        # Se è migliore, aggiorna il percorso\n",
    "        if nuova_distanza < migliore_distanza:\n",
    "            percorso, migliore_distanza = nuovo_percorso, nuova_distanza\n",
    "            #logging.debug(f\"Nuova distanza trovata con Hill Climber: {migliore_distanza:.2f} km\")\n",
    "            # Log di ogni step nel nuovo percorso\n",
    "            for k in range(n - 1):\n",
    "                current_city = percorso[k]\n",
    "                next_city = percorso[k + 1]\n",
    "                '''logging.debug(\n",
    "                    f\"Step: {cities.at[current_city, 'name']} -> {cities.at[next_city, 'name']} \"\n",
    "                    f\"({dist_matrix[current_city, next_city]:.2f} km)\"\n",
    "                )'''\n",
    "            # Ultimo step per chiudere il ciclo\n",
    "            '''logging.debug(\n",
    "                f\"Step: {cities.at[percorso[-1], 'name']} -> {cities.at[percorso[0], 'name']} \"\n",
    "                f\"({dist_matrix[percorso[-1], percorso[0]]:.2f} km)\"\n",
    "            )'''\n",
    "    \n",
    "    return percorso, migliore_distanza\n"
   ]
  },
  {
   "cell_type": "code",
   "execution_count": 105,
   "metadata": {},
   "outputs": [],
   "source": [
    "import math\n",
    "import random\n",
    "\n",
    "def simulated_annealing(dist_matrix, cities, iterazioni, temp_iniziale, temp_finale, fattore_raffreddamento):\n",
    "    \"\"\"Algoritmo Simulated Annealing per risolvere il problema del TSP.\"\"\"\n",
    "    n = len(dist_matrix)\n",
    "    percorso = list(range(n))\n",
    "    random.shuffle(percorso)\n",
    "\n",
    "    def calcola_distanza_totale(percorso):\n",
    "        return sum(dist_matrix[percorso[i], percorso[i + 1]] for i in range(n - 1)) + dist_matrix[percorso[-1], percorso[0]]\n",
    "\n",
    "    distanza_corrente = calcola_distanza_totale(percorso)\n",
    "    migliore_distanza = distanza_corrente\n",
    "    migliore_percorso = percorso[:]\n",
    "    \n",
    "    temperatura = temp_iniziale\n",
    "    \n",
    "    while temperatura > temp_finale:\n",
    "        for _ in range(iterazioni):\n",
    "            nuovo_percorso = percorso[:]\n",
    "            i, j = sorted(random.sample(range(n), 2))\n",
    "            nuovo_percorso[i:j+1] = reversed(nuovo_percorso[i:j+1])\n",
    "            nuova_distanza = calcola_distanza_totale(nuovo_percorso)\n",
    "            delta_distanza = nuova_distanza - distanza_corrente\n",
    "\n",
    "            # Condizione per accettare il percorso\n",
    "            if delta_distanza < 0 or random.random() < math.exp(-delta_distanza / temperatura):\n",
    "                percorso, distanza_corrente = nuovo_percorso, nuova_distanza\n",
    "                if distanza_corrente < migliore_distanza:\n",
    "                    migliore_percorso, migliore_distanza = percorso[:], distanza_corrente\n",
    "                    #logging.debug(f\"Nuovo percorso ottimizzato a {migliore_distanza:.2f} km\")\n",
    "\n",
    "        # Raffreddamento\n",
    "        temperatura *= fattore_raffreddamento\n",
    "\n",
    "    # Log finale del percorso migliore\n",
    "    # logging.debug(\"Miglior percorso trovato:\")\n",
    "    # for k in range(n - 1):\n",
    "    #     logging.debug(\n",
    "    #         f\"{cities.at[migliore_percorso[k], 'name']} -> {cities.at[migliore_percorso[k + 1], 'name']} \"\n",
    "    #         f\"({dist_matrix[migliore_percorso[k], migliore_percorso[k + 1]]:.2f} km)\"\n",
    "    #     )\n",
    "    # logging.debug(\n",
    "    #     f\"{cities.at[migliore_percorso[-1], 'name']} -> {cities.at[migliore_percorso[0], 'name']} \"\n",
    "    #     f\"({dist_matrix[migliore_percorso[-1], migliore_percorso[0]]:.2f} km)\"\n",
    "    # )\n",
    "    \n",
    "    return migliore_percorso, migliore_distanza\n"
   ]
  },
  {
   "cell_type": "code",
   "execution_count": 106,
   "metadata": {},
   "outputs": [
    {
     "name": "stderr",
     "output_type": "stream",
     "text": [
      "INFO:root:Esecuzione dell'algoritmo Simulated Annealing...\n"
     ]
    },
    {
     "name": "stdout",
     "output_type": "stream",
     "text": [
      "Percorso migliore con Simulated Annealing: , Distanza: 1345.54 km\n"
     ]
    },
    {
     "name": "stderr",
     "output_type": "stream",
     "text": [
      "INFO:root:Esecuzione dell'algoritmo Simulated Annealing...\n"
     ]
    },
    {
     "name": "stdout",
     "output_type": "stream",
     "text": [
      "Percorso migliore con Simulated Annealing: , Distanza: 4174.94 km\n"
     ]
    },
    {
     "name": "stderr",
     "output_type": "stream",
     "text": [
      "INFO:root:Esecuzione dell'algoritmo Simulated Annealing...\n"
     ]
    },
    {
     "name": "stdout",
     "output_type": "stream",
     "text": [
      "Percorso migliore con Simulated Annealing: , Distanza: 40665.66 km\n"
     ]
    },
    {
     "name": "stderr",
     "output_type": "stream",
     "text": [
      "INFO:root:Esecuzione dell'algoritmo Simulated Annealing...\n"
     ]
    },
    {
     "name": "stdout",
     "output_type": "stream",
     "text": [
      "Percorso migliore con Simulated Annealing: , Distanza: 34037.59 km\n"
     ]
    },
    {
     "name": "stderr",
     "output_type": "stream",
     "text": [
      "INFO:root:Esecuzione dell'algoritmo Simulated Annealing...\n"
     ]
    },
    {
     "name": "stdout",
     "output_type": "stream",
     "text": [
      "Percorso migliore con Simulated Annealing: , Distanza: 62496.74 km\n"
     ]
    }
   ],
   "source": [
    "for file in city_files:\n",
    "    cities = load_cities(file)\n",
    "    dist_matrix = create_distance_matrix(cities)\n",
    "\n",
    "    # Parametri\n",
    "    iterazioni = 500#10000\n",
    "    temp_iniziale = 100\n",
    "    temp_finale = 0.01\n",
    "    fattore_raffreddamento = 0.99\n",
    "\n",
    "    # # Hill Climber\n",
    "    # logging.info(\"Esecuzione dell'algoritmo Hill Climber...\")\n",
    "    # percorso_hc, distanza_hc = hill_climber(dist_matrix,cities, iterazioni)\n",
    "    # print(f\"Percorso migliore con Hill Climber: , Distanza: {distanza_hc:.2f} km\")#{percorso_hc}\n",
    "\n",
    "    # Simulated Annealing\n",
    "    logging.info(\"Esecuzione dell'algoritmo Simulated Annealing...\")\n",
    "    #dist_matrix, cities, iterazioni, temp_iniziale, temp_finale, fattore_raffreddamento\n",
    "    percorso_sa, distanza_sa = simulated_annealing(dist_matrix,cities, iterazioni, temp_iniziale, temp_finale, fattore_raffreddamento)\n",
    "    print(f\"Percorso migliore con Simulated Annealing: , Distanza: {distanza_sa:.2f} km\")#{percorso_sa}"
   ]
  },
  {
   "cell_type": "code",
   "execution_count": 107,
   "metadata": {},
   "outputs": [],
   "source": [
    "# def total_distance(tour, dist_matrix):\n",
    "#     \"\"\"Calculate the total distance of a given tour using the distance matrix.\"\"\"\n",
    "#     return sum(dist_matrix[tour[i], tour[i + 1]] for i in range(len(tour) - 1)) + dist_matrix[tour[-1], tour[0]]\n",
    "# def generate_population(size, n_cities):\n",
    "#     \"\"\"Generate an initial population of random tours.\"\"\"\n",
    "#     return [random.sample(range(n_cities), n_cities) for _ in range(size)]\n",
    "# def mutate(tour):\n",
    "#     \"\"\"Perform a random mutation in a tour using a 2-opt swap.\"\"\"\n",
    "#     idx1, idx2 = random.sample(range(len(tour)), 2)\n",
    "#     tour[idx1], tour[idx2] = tour[idx2], tour[idx1]\n",
    "#     return tour\n",
    "\n",
    "# def two_opt(tour, dist_matrix):\n",
    "#     \"\"\"Refine a tour using the 2-opt swap method to reduce path cost.\"\"\"\n",
    "#     best = tour\n",
    "#     best_distance = total_distance(tour, dist_matrix)\n",
    "#     for i in range(len(tour) - 1):\n",
    "#         for j in range(i + 2, len(tour)):\n",
    "#             if j - i == 1: continue  # Skip consecutive cities\n",
    "#             new_tour = tour[:i] + tour[i:j][::-1] + tour[j:]\n",
    "#             new_distance = total_distance(new_tour, dist_matrix)\n",
    "#             if new_distance < best_distance:\n",
    "#                 best, best_distance = new_tour, new_distance\n",
    "#     return best\n",
    "\n",
    "# def genetic_algorithm(cities, dist_matrix, population_size=100, generations=1000, elitism_rate=0.1):\n",
    "#     \"\"\"Genetic algorithm to solve the TSP with improvements.\"\"\"\n",
    "#     # Generate initial population\n",
    "#     population = generate_population(population_size, len(cities))\n",
    "#     best_tour = min(population, key=lambda tour: total_distance(tour, dist_matrix))\n",
    "#     best_distance = total_distance(best_tour, dist_matrix)\n",
    "    \n",
    "#     for generation in range(generations):\n",
    "#         # Apply mutation to each individual, then apply 2-opt to improve each tour\n",
    "#         mutated_population = [two_opt(mutate(tour[:]), dist_matrix) for tour in population]\n",
    "        \n",
    "#         # Add elitism: keep the top-performing individuals\n",
    "#         num_elite = int(elitism_rate * population_size)\n",
    "#         elite_population = sorted(mutated_population, key=lambda tour: total_distance(tour, dist_matrix))[:num_elite]\n",
    "        \n",
    "#         # Fill the rest of the population with new mutated individuals\n",
    "#         population = elite_population + [mutate(random.choice(elite_population)[:]) for _ in range(population_size - num_elite)]\n",
    "        \n",
    "#         # Evaluate the best tour in this generation\n",
    "#         current_best = min(population, key=lambda tour: total_distance(tour, dist_matrix))\n",
    "#         current_distance = total_distance(current_best, dist_matrix)\n",
    "        \n",
    "#         # Update the best tour found\n",
    "#         if current_distance < best_distance:\n",
    "#             best_tour, best_distance = current_best, current_distance\n",
    "#             logging.debug(f\"Generation {generation}: New best distance found: {best_distance}\")\n",
    "\n",
    "#     # Log the best tour found\n",
    "#     logging.debug(\"Best path found:\")\n",
    "#     for i in range(len(best_tour)):\n",
    "#         current_city = best_tour[i]\n",
    "#         next_city = best_tour[(i + 1) % len(best_tour)]\n",
    "#         logging.debug(\n",
    "#             f\"Step: {cities.at[current_city, 'name']} -> {cities.at[next_city, 'name']} ({dist_matrix[current_city, next_city]:.2f} km)\"\n",
    "#         )\n",
    "\n",
    "#     return best_tour, best_distance\n",
    "\n",
    "# # Example usage\n",
    "# for file in city_files:\n",
    "#     cities = load_cities(file)\n",
    "#     dist_matrix = create_distance_matrix(cities)\n",
    "#     best_tour, best_distance = genetic_algorithm(cities, dist_matrix)\n",
    "#     print(f\"File: {file} - Best tour: {best_tour}, Best distance: {best_distance:.2f} km\")"
   ]
  },
  {
   "cell_type": "code",
   "execution_count": null,
   "metadata": {},
   "outputs": [],
   "source": []
  }
 ],
 "metadata": {
  "kernelspec": {
   "display_name": "Python 3",
   "language": "python",
   "name": "python3"
  },
  "language_info": {
   "codemirror_mode": {
    "name": "ipython",
    "version": 3
   },
   "file_extension": ".py",
   "mimetype": "text/x-python",
   "name": "python",
   "nbconvert_exporter": "python",
   "pygments_lexer": "ipython3",
   "version": "3.10.11"
  }
 },
 "nbformat": 4,
 "nbformat_minor": 2
}

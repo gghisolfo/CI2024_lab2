{
 "cells": [
  {
   "cell_type": "markdown",
   "metadata": {},
   "source": [
    "## tps problem"
   ]
  },
  {
   "cell_type": "code",
   "execution_count": 12,
   "metadata": {},
   "outputs": [],
   "source": [
    "import csv"
   ]
  },
  {
   "cell_type": "code",
   "execution_count": 13,
   "metadata": {},
   "outputs": [],
   "source": [
    "def load_city_data(file_path):\n",
    "    city_data = {}\n",
    "\n",
    "    with open(file_path, newline='', encoding='utf-8') as csvfile:\n",
    "        reader = csv.reader(csvfile)\n",
    "        for row in reader:\n",
    "            if len(row) == 3:\n",
    "                city_name = row[0].strip('\"')  # Rimuove eventuali virgolette\n",
    "                latitude = float(row[1])\n",
    "                longitude = float(row[2])\n",
    "                city_data[city_name] = {'latitude': latitude, 'longitude': longitude}\n",
    "\n",
    "    return city_data"
   ]
  },
  {
   "cell_type": "code",
   "execution_count": 14,
   "metadata": {},
   "outputs": [
    {
     "name": "stdout",
     "output_type": "stream",
     "text": [
      "City: Isangel, Latitude: -19.53, Longitude: 169.28\n",
      "City: Lakatoro, Latitude: -16.09, Longitude: 167.4\n",
      "City: Longana, Latitude: -15.3, Longitude: 168.0\n",
      "City: Luganville, Latitude: -15.51, Longitude: 167.15\n",
      "City: Norsup, Latitude: -16.07, Longitude: 167.39000000000001\n",
      "City: Port Olry, Latitude: -15.05, Longitude: 167.05\n",
      "City: Sola, Latitude: -13.870000000000001, Longitude: 167.55\n",
      "City: Vila, Latitude: -17.74, Longitude: 168.31\n"
     ]
    }
   ],
   "source": [
    "# Esempio di utilizzo\n",
    "file_path = ['C:\\\\Users\\\\user\\\\Documents\\\\UNI\\\\computational intelligence\\\\LABORATORI\\\\CI2024_lab2\\\\data\\\\vanuatu.csv',\n",
    "             'C:\\\\Users\\\\user\\\\Documents\\\\UNI\\\\computational intelligence\\\\LABORATORI\\\\CI2024_lab2\\\\data\\\\italy.csv',\n",
    "             'C:\\\\Users\\\\user\\\\Documents\\\\UNI\\\\computational intelligence\\\\LABORATORI\\\\CI2024_lab2\\\\data\\\\russia.csv',\n",
    "             'C:\\\\Users\\\\user\\\\Documents\\\\UNI\\\\computational intelligence\\\\LABORATORI\\\\CI2024_lab2\\\\data\\\\us.csv',\n",
    "             'C:\\\\Users\\\\user\\\\Documents\\\\UNI\\\\computational intelligence\\\\LABORATORI\\\\CI2024_lab2\\\\data\\\\china.csv'\n",
    "            ]\n",
    "city_coordinates = load_city_data(file_path[0])\n",
    "\n",
    "# Stampa la struttura dati\n",
    "for city, coords in city_coordinates.items():\n",
    "    print(f\"City: {city}, Latitude: {coords['latitude']}, Longitude: {coords['longitude']}\")"
   ]
  }
 ],
 "metadata": {
  "kernelspec": {
   "display_name": "Python 3",
   "language": "python",
   "name": "python3"
  },
  "language_info": {
   "codemirror_mode": {
    "name": "ipython",
    "version": 3
   },
   "file_extension": ".py",
   "mimetype": "text/x-python",
   "name": "python",
   "nbconvert_exporter": "python",
   "pygments_lexer": "ipython3",
   "version": "3.10.11"
  }
 },
 "nbformat": 4,
 "nbformat_minor": 2
}
